{
 "cells": [
  {
   "cell_type": "markdown",
   "metadata": {},
   "source": [
    "Note that running this notebook isn't necessary as the generated pkl file has already been included in the git project. This is mainly just here as a reference to understand where the data came from"
   ]
  },
  {
   "cell_type": "code",
   "execution_count": 1,
   "metadata": {},
   "outputs": [],
   "source": [
    "import matplotlib.pyplot as plt\n",
    "import numpy as np\n",
    "import os\n",
    "import shutil\n",
    "import pandas as pd\n",
    "import pdb\n",
    "\n",
    "#install wfdb from https://github.com/MIT-LCP/wfdb-python\n",
    "import wfdb"
   ]
  },
  {
   "cell_type": "markdown",
   "metadata": {},
   "source": [
    "The .apn files are (binary) annotation files, containing an annotation for each minute of each recording indicating the presence or absence of apnea at that time; these are available for the 35 learning set recordings only\n",
    "\n",
    "ECG sampling rate is 100Hz  "
   ]
  },
  {
   "cell_type": "code",
   "execution_count": 2,
   "metadata": {},
   "outputs": [],
   "source": [
    "#grab data from https://www.physionet.org/content/apnea-ecg/1.0.0/\n",
    "record = wfdb.rdrecord('a01', pn_dir='apnea-ecg/1.0.0/')\n",
    "data = pd.DataFrame(record.p_signal)\n",
    "\n",
    "annotation = wfdb.rdann('a01', 'apn', pn_dir='apnea-ecg/1.0.0/')\n",
    "\n",
    "data.to_pickle('apnea_ecg.pkl')"
   ]
  }
 ],
 "metadata": {
  "kernelspec": {
   "display_name": "Python 3",
   "language": "python",
   "name": "python3"
  },
  "language_info": {
   "codemirror_mode": {
    "name": "ipython",
    "version": 3
   },
   "file_extension": ".py",
   "mimetype": "text/x-python",
   "name": "python",
   "nbconvert_exporter": "python",
   "pygments_lexer": "ipython3",
   "version": "3.7.6"
  }
 },
 "nbformat": 4,
 "nbformat_minor": 4
}
